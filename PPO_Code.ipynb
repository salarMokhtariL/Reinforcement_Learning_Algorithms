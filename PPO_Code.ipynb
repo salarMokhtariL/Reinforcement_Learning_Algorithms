{
  "nbformat": 4,
  "nbformat_minor": 0,
  "metadata": {
    "colab": {
      "provenance": [],
      "gpuType": "T4",
      "authorship_tag": "ABX9TyMaZiAXze23UIrbY8T4Jyun",
      "include_colab_link": true
    },
    "kernelspec": {
      "name": "python3",
      "display_name": "Python 3"
    },
    "language_info": {
      "name": "python"
    },
    "accelerator": "GPU"
  },
  "cells": [
    {
      "cell_type": "markdown",
      "metadata": {
        "id": "view-in-github",
        "colab_type": "text"
      },
      "source": [
        "<a href=\"https://colab.research.google.com/github/salarMokhtariL/Reinforcement_Learning_Algorithms/blob/main/PPO_Code.ipynb\" target=\"_parent\"><img src=\"https://colab.research.google.com/assets/colab-badge.svg\" alt=\"Open In Colab\"/></a>"
      ]
    },
    {
      "cell_type": "code",
      "execution_count": 1,
      "metadata": {
        "id": "XmRWkhs2flYX"
      },
      "outputs": [],
      "source": [
        "# Import required libraries\n",
        "import numpy as np\n",
        "import torch\n",
        "import torch.nn as nn\n",
        "import torch.optim as optim\n",
        "import gym\n",
        "from torch.distributions import Categorical\n",
        "import matplotlib.pyplot as plt"
      ]
    },
    {
      "cell_type": "code",
      "source": [
        "# Hyperparameters\n",
        "learning_rate = 3e-4         # Learning rate for optimizers\n",
        "gamma = 0.99                 # Discount factor for future rewards\n",
        "lambda_gae = 0.95            # GAE lambda for advantage calculation\n",
        "clip_epsilon = 0.2           # Clipping range for PPO objective\n",
        "epochs = 3                   # Epochs per policy update\n",
        "timesteps_per_batch = 2048   # Number of timesteps per batch for training\n",
        "max_timesteps = 1e5          # Total training timesteps"
      ],
      "metadata": {
        "colab": {
          "base_uri": "https://localhost:8080/"
        },
        "id": "RI5OnJxSfzSO",
        "outputId": "1abc3237-1162-4676-9791-f69a6eb06f38"
      },
      "execution_count": 2,
      "outputs": [
        {
          "output_type": "stream",
          "name": "stderr",
          "text": [
            "/usr/local/lib/python3.10/dist-packages/ipykernel/ipkernel.py:283: DeprecationWarning: `should_run_async` will not call `transform_cell` automatically in the future. Please pass the result to `transformed_cell` argument and any exception that happen during thetransform in `preprocessing_exc_tuple` in IPython 7.17 and above.\n",
            "  and should_run_async(code)\n"
          ]
        }
      ]
    },
    {
      "cell_type": "code",
      "source": [
        "# Policy Network for action selection\n",
        "class PolicyNetwork(nn.Module):\n",
        "    def __init__(self, state_dim, action_dim):\n",
        "        super(PolicyNetwork, self).__init__()\n",
        "        # Define a simple feed-forward network with two hidden layers and softmax output\n",
        "        self.fc = nn.Sequential(\n",
        "            nn.Linear(state_dim, 64),\n",
        "            nn.ReLU(),\n",
        "            nn.Linear(64, 64),\n",
        "            nn.ReLU(),\n",
        "            nn.Linear(64, action_dim),\n",
        "            nn.Softmax(dim=-1)  # Output probabilities for each action\n",
        "        )\n",
        "\n",
        "    def forward(self, x):\n",
        "        return self.fc(x)"
      ],
      "metadata": {
        "id": "LJ4Zrfi9f40H"
      },
      "execution_count": 3,
      "outputs": []
    },
    {
      "cell_type": "code",
      "source": [
        "# Value Network for estimating state values (baseline)\n",
        "class ValueNetwork(nn.Module):\n",
        "    def __init__(self, state_dim):\n",
        "        super(ValueNetwork, self).__init__()\n",
        "        # Define a feed-forward network to output the state value\n",
        "        self.fc = nn.Sequential(\n",
        "            nn.Linear(state_dim, 64),\n",
        "            nn.ReLU(),\n",
        "            nn.Linear(64, 64),\n",
        "            nn.ReLU(),\n",
        "            nn.Linear(64, 1)  # Single output for state value\n",
        "        )\n",
        "\n",
        "    def forward(self, x):\n",
        "        return self.fc(x)"
      ],
      "metadata": {
        "id": "AyMJKvwtf7Vd"
      },
      "execution_count": 4,
      "outputs": []
    },
    {
      "cell_type": "code",
      "source": [
        "# PPO Agent class\n",
        "class PPOAgent:\n",
        "    def __init__(self, env):\n",
        "        self.env = env\n",
        "        self.policy_net = PolicyNetwork(env.observation_space.shape[0], env.action_space.n)\n",
        "        self.value_net = ValueNetwork(env.observation_space.shape[0])\n",
        "        # Optimizers for policy and value networks\n",
        "        self.policy_optimizer = optim.Adam(self.policy_net.parameters(), lr=learning_rate)\n",
        "        self.value_optimizer = optim.Adam(self.value_net.parameters(), lr=learning_rate)\n",
        "        self.rewards_history = []  # Track rewards for plotting\n",
        "\n",
        "    def select_action(self, state):\n",
        "        \"\"\"Sample an action according to the policy.\"\"\"\n",
        "        state = torch.FloatTensor(state).unsqueeze(0)  # Add batch dimension\n",
        "        probs = self.policy_net(state)  # Get action probabilities from policy\n",
        "        dist = Categorical(probs)       # Create a Categorical distribution\n",
        "        action = dist.sample()          # Sample an action\n",
        "        return action.item(), dist.log_prob(action)  # Return action and log probability\n",
        "\n",
        "    def compute_gae(self, rewards, values, dones):\n",
        "        \"\"\"Compute Generalized Advantage Estimation (GAE).\"\"\"\n",
        "        values = values + [0]  # Extend values to use for last reward calculation\n",
        "        gae = 0\n",
        "        returns = []           # Store returns for each timestep\n",
        "        # Loop backward to calculate GAE\n",
        "        for step in reversed(range(len(rewards))):\n",
        "            delta = rewards[step] + gamma * values[step + 1] * (1 - dones[step]) - values[step]\n",
        "            gae = delta + gamma * lambda_gae * (1 - dones[step]) * gae\n",
        "            returns.insert(0, gae + values[step])\n",
        "        return returns\n",
        "\n",
        "    def update_policy(self, states, actions, log_probs_old, returns, advantages):\n",
        "        \"\"\"Update policy and value networks based on PPO objective.\"\"\"\n",
        "        for _ in range(epochs):\n",
        "            for index in range(len(states)):\n",
        "                state = torch.FloatTensor(states[index])\n",
        "                action = torch.tensor(actions[index])\n",
        "                log_prob_old = torch.tensor(log_probs_old[index])\n",
        "                advantage = torch.tensor(advantages[index])\n",
        "\n",
        "                # Calculate new log probability and probability ratio\n",
        "                dist = Categorical(self.policy_net(state))\n",
        "                log_prob = dist.log_prob(action)\n",
        "                ratio = torch.exp(log_prob - log_prob_old)\n",
        "\n",
        "                # PPO clipped objective\n",
        "                surr1 = ratio * advantage\n",
        "                surr2 = torch.clamp(ratio, 1 - clip_epsilon, 1 + clip_epsilon) * advantage\n",
        "                policy_loss = -torch.min(surr1, surr2).mean()  # Negative for gradient descent\n",
        "\n",
        "                # Update policy network\n",
        "                self.policy_optimizer.zero_grad()\n",
        "                policy_loss.backward()\n",
        "                self.policy_optimizer.step()\n",
        "\n",
        "            # Update value network to minimize mean squared error\n",
        "            values = self.value_net(torch.FloatTensor(states)).squeeze()\n",
        "            value_loss = nn.MSELoss()(values, torch.FloatTensor(returns))\n",
        "            self.value_optimizer.zero_grad()\n",
        "            value_loss.backward()\n",
        "            self.value_optimizer.step()\n",
        "\n",
        "    def train(self):\n",
        "        \"\"\"Main training loop.\"\"\"\n",
        "        timestep = 0\n",
        "        episode_rewards = []\n",
        "        while timestep < max_timesteps:\n",
        "            states, actions, log_probs_old, rewards, dones, values = [], [], [], [], [], []\n",
        "            state = self.env.reset()\n",
        "            episode_reward = 0  # Total reward per episode\n",
        "\n",
        "            # Collect experience in the environment\n",
        "            for _ in range(timesteps_per_batch):\n",
        "                action, log_prob = self.select_action(state)\n",
        "                next_state, reward, done, _ = self.env.step(action)\n",
        "\n",
        "                # Store experience\n",
        "                states.append(state)\n",
        "                actions.append(action)\n",
        "                log_probs_old.append(log_prob.item())\n",
        "                rewards.append(reward)\n",
        "                dones.append(done)\n",
        "                values.append(self.value_net(torch.FloatTensor(state)).item())\n",
        "\n",
        "                # Update state and episode reward\n",
        "                state = next_state\n",
        "                episode_reward += reward\n",
        "                timestep += 1\n",
        "                if done:\n",
        "                    # Track rewards to visualize agent progress\n",
        "                    state = self.env.reset()\n",
        "                    episode_rewards.append(episode_reward)\n",
        "                    break\n",
        "\n",
        "            # Calculate moving average reward over the last 10 episodes\n",
        "            avg_reward = np.mean(episode_rewards[-10:])\n",
        "            self.rewards_history.append(avg_reward)\n",
        "\n",
        "            # Compute returns and advantages using GAE\n",
        "            advantages = self.compute_gae(rewards, values, dones)\n",
        "            returns = [adv + val for adv, val in zip(advantages, values)]\n",
        "\n",
        "            # Normalize advantages for stability\n",
        "            advantages = (advantages - np.mean(advantages)) / (np.std(advantages) + 1e-8)\n",
        "\n",
        "            # Perform policy and value updates\n",
        "            self.update_policy(states, actions, log_probs_old, returns, advantages)\n",
        "\n",
        "        # Plotting the reward function to visualize training progress\n",
        "        plt.plot(self.rewards_history)\n",
        "        plt.xlabel('Episode')\n",
        "        plt.ylabel('Average Reward (last 10 episodes)')\n",
        "        plt.title('PPO Training Rewards')\n",
        "        plt.show()"
      ],
      "metadata": {
        "id": "VII_bPN1gBt1"
      },
      "execution_count": 5,
      "outputs": []
    }
  ]
}